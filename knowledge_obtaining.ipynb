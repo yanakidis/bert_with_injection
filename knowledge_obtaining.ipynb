{
  "nbformat": 4,
  "nbformat_minor": 0,
  "metadata": {
    "colab": {
      "provenance": [],
      "gpuType": "T4",
      "collapsed_sections": [
        "6uMPjujcY3Pu",
        "Fvee6CbSZt88",
        "Ao0oz5yEZvIX",
        "CL_giKUzX1-x",
        "ooSYMMdqDYtc"
      ]
    },
    "kernelspec": {
      "name": "python3",
      "display_name": "Python 3"
    },
    "language_info": {
      "name": "python"
    },
    "accelerator": "GPU",
    "widgets": {
      "application/vnd.jupyter.widget-state+json": {
        "98ba2c2e6b83410facc517d72b9cf443": {
          "model_module": "@jupyter-widgets/controls",
          "model_name": "HBoxModel",
          "model_module_version": "1.5.0",
          "state": {
            "_dom_classes": [],
            "_model_module": "@jupyter-widgets/controls",
            "_model_module_version": "1.5.0",
            "_model_name": "HBoxModel",
            "_view_count": null,
            "_view_module": "@jupyter-widgets/controls",
            "_view_module_version": "1.5.0",
            "_view_name": "HBoxView",
            "box_style": "",
            "children": [
              "IPY_MODEL_bda3f878940a45cfaf3b68e1f4e10824",
              "IPY_MODEL_3e0e73cefb4b488ea655dcf6d2d2a35f",
              "IPY_MODEL_a200f580f3d74c7a996a2bc9a74d2439"
            ],
            "layout": "IPY_MODEL_59f9cdbb81854dfca77fd0e801d620f6"
          }
        },
        "bda3f878940a45cfaf3b68e1f4e10824": {
          "model_module": "@jupyter-widgets/controls",
          "model_name": "HTMLModel",
          "model_module_version": "1.5.0",
          "state": {
            "_dom_classes": [],
            "_model_module": "@jupyter-widgets/controls",
            "_model_module_version": "1.5.0",
            "_model_name": "HTMLModel",
            "_view_count": null,
            "_view_module": "@jupyter-widgets/controls",
            "_view_module_version": "1.5.0",
            "_view_name": "HTMLView",
            "description": "",
            "description_tooltip": null,
            "layout": "IPY_MODEL_918db56417004ccb8383a59001fb341f",
            "placeholder": "​",
            "style": "IPY_MODEL_162802fd9a504eb5ace82629d197e3e1",
            "value": "100%"
          }
        },
        "3e0e73cefb4b488ea655dcf6d2d2a35f": {
          "model_module": "@jupyter-widgets/controls",
          "model_name": "FloatProgressModel",
          "model_module_version": "1.5.0",
          "state": {
            "_dom_classes": [],
            "_model_module": "@jupyter-widgets/controls",
            "_model_module_version": "1.5.0",
            "_model_name": "FloatProgressModel",
            "_view_count": null,
            "_view_module": "@jupyter-widgets/controls",
            "_view_module_version": "1.5.0",
            "_view_name": "ProgressView",
            "bar_style": "success",
            "description": "",
            "description_tooltip": null,
            "layout": "IPY_MODEL_aa5f5a2aa8c449bda3f217f553b62f02",
            "max": 1501,
            "min": 0,
            "orientation": "horizontal",
            "style": "IPY_MODEL_e8d4523d2d734bd3a992ed72c441e3f3",
            "value": 1501
          }
        },
        "a200f580f3d74c7a996a2bc9a74d2439": {
          "model_module": "@jupyter-widgets/controls",
          "model_name": "HTMLModel",
          "model_module_version": "1.5.0",
          "state": {
            "_dom_classes": [],
            "_model_module": "@jupyter-widgets/controls",
            "_model_module_version": "1.5.0",
            "_model_name": "HTMLModel",
            "_view_count": null,
            "_view_module": "@jupyter-widgets/controls",
            "_view_module_version": "1.5.0",
            "_view_name": "HTMLView",
            "description": "",
            "description_tooltip": null,
            "layout": "IPY_MODEL_b2f570f1e35b45f39c683ca2998b4669",
            "placeholder": "​",
            "style": "IPY_MODEL_a6c658baf6c4460b84b6323afd896b05",
            "value": " 1501/1501 [02:40&lt;00:00, 11.42it/s]"
          }
        },
        "59f9cdbb81854dfca77fd0e801d620f6": {
          "model_module": "@jupyter-widgets/base",
          "model_name": "LayoutModel",
          "model_module_version": "1.2.0",
          "state": {
            "_model_module": "@jupyter-widgets/base",
            "_model_module_version": "1.2.0",
            "_model_name": "LayoutModel",
            "_view_count": null,
            "_view_module": "@jupyter-widgets/base",
            "_view_module_version": "1.2.0",
            "_view_name": "LayoutView",
            "align_content": null,
            "align_items": null,
            "align_self": null,
            "border": null,
            "bottom": null,
            "display": null,
            "flex": null,
            "flex_flow": null,
            "grid_area": null,
            "grid_auto_columns": null,
            "grid_auto_flow": null,
            "grid_auto_rows": null,
            "grid_column": null,
            "grid_gap": null,
            "grid_row": null,
            "grid_template_areas": null,
            "grid_template_columns": null,
            "grid_template_rows": null,
            "height": null,
            "justify_content": null,
            "justify_items": null,
            "left": null,
            "margin": null,
            "max_height": null,
            "max_width": null,
            "min_height": null,
            "min_width": null,
            "object_fit": null,
            "object_position": null,
            "order": null,
            "overflow": null,
            "overflow_x": null,
            "overflow_y": null,
            "padding": null,
            "right": null,
            "top": null,
            "visibility": null,
            "width": null
          }
        },
        "918db56417004ccb8383a59001fb341f": {
          "model_module": "@jupyter-widgets/base",
          "model_name": "LayoutModel",
          "model_module_version": "1.2.0",
          "state": {
            "_model_module": "@jupyter-widgets/base",
            "_model_module_version": "1.2.0",
            "_model_name": "LayoutModel",
            "_view_count": null,
            "_view_module": "@jupyter-widgets/base",
            "_view_module_version": "1.2.0",
            "_view_name": "LayoutView",
            "align_content": null,
            "align_items": null,
            "align_self": null,
            "border": null,
            "bottom": null,
            "display": null,
            "flex": null,
            "flex_flow": null,
            "grid_area": null,
            "grid_auto_columns": null,
            "grid_auto_flow": null,
            "grid_auto_rows": null,
            "grid_column": null,
            "grid_gap": null,
            "grid_row": null,
            "grid_template_areas": null,
            "grid_template_columns": null,
            "grid_template_rows": null,
            "height": null,
            "justify_content": null,
            "justify_items": null,
            "left": null,
            "margin": null,
            "max_height": null,
            "max_width": null,
            "min_height": null,
            "min_width": null,
            "object_fit": null,
            "object_position": null,
            "order": null,
            "overflow": null,
            "overflow_x": null,
            "overflow_y": null,
            "padding": null,
            "right": null,
            "top": null,
            "visibility": null,
            "width": null
          }
        },
        "162802fd9a504eb5ace82629d197e3e1": {
          "model_module": "@jupyter-widgets/controls",
          "model_name": "DescriptionStyleModel",
          "model_module_version": "1.5.0",
          "state": {
            "_model_module": "@jupyter-widgets/controls",
            "_model_module_version": "1.5.0",
            "_model_name": "DescriptionStyleModel",
            "_view_count": null,
            "_view_module": "@jupyter-widgets/base",
            "_view_module_version": "1.2.0",
            "_view_name": "StyleView",
            "description_width": ""
          }
        },
        "aa5f5a2aa8c449bda3f217f553b62f02": {
          "model_module": "@jupyter-widgets/base",
          "model_name": "LayoutModel",
          "model_module_version": "1.2.0",
          "state": {
            "_model_module": "@jupyter-widgets/base",
            "_model_module_version": "1.2.0",
            "_model_name": "LayoutModel",
            "_view_count": null,
            "_view_module": "@jupyter-widgets/base",
            "_view_module_version": "1.2.0",
            "_view_name": "LayoutView",
            "align_content": null,
            "align_items": null,
            "align_self": null,
            "border": null,
            "bottom": null,
            "display": null,
            "flex": null,
            "flex_flow": null,
            "grid_area": null,
            "grid_auto_columns": null,
            "grid_auto_flow": null,
            "grid_auto_rows": null,
            "grid_column": null,
            "grid_gap": null,
            "grid_row": null,
            "grid_template_areas": null,
            "grid_template_columns": null,
            "grid_template_rows": null,
            "height": null,
            "justify_content": null,
            "justify_items": null,
            "left": null,
            "margin": null,
            "max_height": null,
            "max_width": null,
            "min_height": null,
            "min_width": null,
            "object_fit": null,
            "object_position": null,
            "order": null,
            "overflow": null,
            "overflow_x": null,
            "overflow_y": null,
            "padding": null,
            "right": null,
            "top": null,
            "visibility": null,
            "width": null
          }
        },
        "e8d4523d2d734bd3a992ed72c441e3f3": {
          "model_module": "@jupyter-widgets/controls",
          "model_name": "ProgressStyleModel",
          "model_module_version": "1.5.0",
          "state": {
            "_model_module": "@jupyter-widgets/controls",
            "_model_module_version": "1.5.0",
            "_model_name": "ProgressStyleModel",
            "_view_count": null,
            "_view_module": "@jupyter-widgets/base",
            "_view_module_version": "1.2.0",
            "_view_name": "StyleView",
            "bar_color": null,
            "description_width": ""
          }
        },
        "b2f570f1e35b45f39c683ca2998b4669": {
          "model_module": "@jupyter-widgets/base",
          "model_name": "LayoutModel",
          "model_module_version": "1.2.0",
          "state": {
            "_model_module": "@jupyter-widgets/base",
            "_model_module_version": "1.2.0",
            "_model_name": "LayoutModel",
            "_view_count": null,
            "_view_module": "@jupyter-widgets/base",
            "_view_module_version": "1.2.0",
            "_view_name": "LayoutView",
            "align_content": null,
            "align_items": null,
            "align_self": null,
            "border": null,
            "bottom": null,
            "display": null,
            "flex": null,
            "flex_flow": null,
            "grid_area": null,
            "grid_auto_columns": null,
            "grid_auto_flow": null,
            "grid_auto_rows": null,
            "grid_column": null,
            "grid_gap": null,
            "grid_row": null,
            "grid_template_areas": null,
            "grid_template_columns": null,
            "grid_template_rows": null,
            "height": null,
            "justify_content": null,
            "justify_items": null,
            "left": null,
            "margin": null,
            "max_height": null,
            "max_width": null,
            "min_height": null,
            "min_width": null,
            "object_fit": null,
            "object_position": null,
            "order": null,
            "overflow": null,
            "overflow_x": null,
            "overflow_y": null,
            "padding": null,
            "right": null,
            "top": null,
            "visibility": null,
            "width": null
          }
        },
        "a6c658baf6c4460b84b6323afd896b05": {
          "model_module": "@jupyter-widgets/controls",
          "model_name": "DescriptionStyleModel",
          "model_module_version": "1.5.0",
          "state": {
            "_model_module": "@jupyter-widgets/controls",
            "_model_module_version": "1.5.0",
            "_model_name": "DescriptionStyleModel",
            "_view_count": null,
            "_view_module": "@jupyter-widgets/base",
            "_view_module_version": "1.2.0",
            "_view_name": "StyleView",
            "description_width": ""
          }
        }
      }
    }
  },
  "cells": [
    {
      "cell_type": "markdown",
      "source": [
        "# Импорты"
      ],
      "metadata": {
        "id": "6uMPjujcY3Pu"
      }
    },
    {
      "cell_type": "code",
      "source": [
        "from google.colab import drive\n",
        "drive.mount('/content/drive')"
      ],
      "metadata": {
        "id": "fsqvtWLhhsCo",
        "colab": {
          "base_uri": "https://localhost:8080/"
        },
        "outputId": "9dbf006d-497f-43a9-e667-96c0b47fda42"
      },
      "execution_count": null,
      "outputs": [
        {
          "output_type": "stream",
          "name": "stdout",
          "text": [
            "Mounted at /content/drive\n"
          ]
        }
      ]
    },
    {
      "cell_type": "code",
      "source": [
        "cd drive/MyDrive/Курсовая"
      ],
      "metadata": {
        "colab": {
          "base_uri": "https://localhost:8080/"
        },
        "id": "UO9BsOY2h1ZL",
        "outputId": "57265028-b34a-4fe7-89c0-b266e5073023"
      },
      "execution_count": null,
      "outputs": [
        {
          "output_type": "stream",
          "name": "stdout",
          "text": [
            "/content/drive/MyDrive/Курсовая\n"
          ]
        }
      ]
    },
    {
      "cell_type": "code",
      "source": [
        "import pandas as pd\n",
        "import numpy as np\n",
        "import torch\n",
        "import torch.nn as nn\n",
        "import re\n",
        "import random, os\n",
        "import pickle\n",
        "\n",
        "from tqdm.notebook import tqdm\n",
        "from sklearn.decomposition import LatentDirichletAllocation\n",
        "from sklearn.feature_extraction.text import CountVectorizer\n",
        "from gensim.models import Word2Vec\n",
        "import gensim.downloader as api\n",
        "from transformers import BertModel, BertTokenizer\n",
        "from torch.utils.data import TensorDataset, DataLoader, SequentialSampler"
      ],
      "metadata": {
        "id": "SnZA_n1niFkg"
      },
      "execution_count": null,
      "outputs": []
    },
    {
      "cell_type": "code",
      "source": [
        "def seed_everything(seed: int):\n",
        "    random.seed(seed)\n",
        "    os.environ['PYTHONHASHSEED'] = str(seed)\n",
        "    np.random.seed(seed)\n",
        "    torch.manual_seed(seed)\n",
        "    torch.cuda.manual_seed(seed)\n",
        "    torch.backends.cudnn.deterministic = True\n",
        "    torch.backends.cudnn.benchmark = True\n",
        "\n",
        "seed_everything(42)"
      ],
      "metadata": {
        "id": "FzdCQNYkmvdT"
      },
      "execution_count": null,
      "outputs": []
    },
    {
      "cell_type": "markdown",
      "source": [
        "# Подготовка"
      ],
      "metadata": {
        "id": "Fvee6CbSZt88"
      }
    },
    {
      "cell_type": "code",
      "source": [
        "df = pd.read_csv('sentiment140_100000.csv')"
      ],
      "metadata": {
        "id": "GdOUzI1sZNOB"
      },
      "execution_count": null,
      "outputs": []
    },
    {
      "cell_type": "code",
      "source": [
        "knowledge_dct = {}"
      ],
      "metadata": {
        "id": "S8HhOLLaZ3-K"
      },
      "execution_count": null,
      "outputs": []
    },
    {
      "cell_type": "code",
      "source": [
        "# берем только обучающую выборку для получения эмбеддингов\n",
        "train = df[df[\"data_type\"]=='train'].reset_index(drop=True)"
      ],
      "metadata": {
        "id": "B60Gq1hjnjEK"
      },
      "execution_count": null,
      "outputs": []
    },
    {
      "cell_type": "code",
      "source": [
        "# подсчитаем количество слов в каждом твите\n",
        "count_vectorizer = CountVectorizer(min_df=10, max_df=0.99)\n",
        "count_data = count_vectorizer.fit_transform(train['tweet'].values)"
      ],
      "metadata": {
        "id": "MTbwMSi6QYnM"
      },
      "execution_count": null,
      "outputs": []
    },
    {
      "cell_type": "markdown",
      "source": [
        "# Создание эмбеддингов для юзеров с помощью LDA"
      ],
      "metadata": {
        "id": "Ao0oz5yEZvIX"
      }
    },
    {
      "cell_type": "code",
      "source": [
        "# расмотрим количество тем 2, 5, 10, 20\n",
        "n_components_list = [2, 5, 10, 20]"
      ],
      "metadata": {
        "id": "siVrM5JcdR05"
      },
      "execution_count": null,
      "outputs": []
    },
    {
      "cell_type": "markdown",
      "source": [
        "## Post-LDA\n",
        "\n",
        "То есть считаем, что каждый твит - это отдельный документ\n",
        "\n",
        "Смотрим на распределение тем в каждом документе\n",
        "\n",
        "Эмбеддинг юзера - среднее всех распределений его документов"
      ],
      "metadata": {
        "id": "MhrU4p-xcgFt"
      }
    },
    {
      "cell_type": "code",
      "source": [
        "for n_components in n_components_list:\n",
        "  lda = LatentDirichletAllocation(n_components=n_components, random_state=42, n_jobs=-1)\n",
        "  transformed_train = lda.fit_transform(count_data)\n",
        "\n",
        "  knowledge_dct[f'post_lda_{n_components}'] = {}\n",
        "\n",
        "  for user, group in train.groupby(by=['user']):\n",
        "    embeddings_for_user = transformed_train[group.index]\n",
        "    knowledge_dct[f'post_lda_{n_components}'][user[0]] = embeddings_for_user.mean(axis=0)"
      ],
      "metadata": {
        "id": "XNI8-K9ndC9I"
      },
      "execution_count": null,
      "outputs": []
    },
    {
      "cell_type": "markdown",
      "source": [
        "## User-LDA\n",
        "\n",
        "То есть считаем, что все твиты одного пользователя - это один документ\n",
        "\n",
        "Эмбеддинг юзера - распределение тем в этом одном документе"
      ],
      "metadata": {
        "id": "EyA8-WdzeBDr"
      }
    },
    {
      "cell_type": "code",
      "source": [
        "# новая матрица\n",
        "new_count_data = []"
      ],
      "metadata": {
        "id": "ZsVzx4SpisTE"
      },
      "execution_count": null,
      "outputs": []
    },
    {
      "cell_type": "code",
      "source": [
        "# в каждой строке теперь по сути объединенные твиты от каждого пользователя\n",
        "for user, group in train.groupby(by=['user']):\n",
        "  new_count_data.append(count_data[group.index].sum(axis=0).tolist()[0])"
      ],
      "metadata": {
        "id": "sv0VCELfijA1"
      },
      "execution_count": null,
      "outputs": []
    },
    {
      "cell_type": "code",
      "source": [
        "new_count_data = np.array(new_count_data)"
      ],
      "metadata": {
        "id": "KBhLOYHKjx4b"
      },
      "execution_count": null,
      "outputs": []
    },
    {
      "cell_type": "code",
      "source": [
        "len(new_count_data), df['user'].nunique()"
      ],
      "metadata": {
        "colab": {
          "base_uri": "https://localhost:8080/"
        },
        "id": "sAMHlMe5jnSl",
        "outputId": "919cc4d5-02bf-49a9-fc17-3c7fee553c96"
      },
      "execution_count": null,
      "outputs": [
        {
          "output_type": "execute_result",
          "data": {
            "text/plain": [
              "(1501, 1501)"
            ]
          },
          "metadata": {},
          "execution_count": 37
        }
      ]
    },
    {
      "cell_type": "code",
      "source": [
        "for n_components in n_components_list:\n",
        "  lda = LatentDirichletAllocation(n_components=n_components, random_state=42, n_jobs=-1)\n",
        "  transformed_train = lda.fit_transform(new_count_data)\n",
        "\n",
        "  knowledge_dct[f'user_lda_{n_components}'] = {}\n",
        "\n",
        "  for i, (user, group) in enumerate(train.groupby(by=['user'])):\n",
        "    embedding_for_user = transformed_train[i]\n",
        "    knowledge_dct[f'user_lda_{n_components}'][user[0]] = embedding_for_user"
      ],
      "metadata": {
        "id": "6s3p8wgmeIxS"
      },
      "execution_count": null,
      "outputs": []
    },
    {
      "cell_type": "markdown",
      "source": [
        "# Создание эмбеддингов для юзеров с помощью Word2Vec и GloVe"
      ],
      "metadata": {
        "id": "CL_giKUzX1-x"
      }
    },
    {
      "cell_type": "code",
      "source": [
        "# расcмотрим предобученные модели из библиотеки gensim с размерностями эмбеддингов 100 и 200: glove-twitter-100 и glove-twitter-200\n",
        "# а также сами обучим модель с эмбеддингами размерности 300 на данных\n",
        "\n",
        "model_list = [\n",
        "  api.load(\"glove-twitter-100\"),\n",
        "  api.load(\"glove-twitter-200\"),\n",
        "  Word2Vec(\n",
        "      train['tweet'].apply(lambda x: x.split(' ')).values,\n",
        "      min_count=10,\n",
        "      vector_size=300,\n",
        "      window=5\n",
        "      )\n",
        "]"
      ],
      "metadata": {
        "colab": {
          "base_uri": "https://localhost:8080/"
        },
        "id": "VC8HBZTdn8Qj",
        "outputId": "909688a1-11c9-4d4b-dfc7-7dc6a313a0b5"
      },
      "execution_count": null,
      "outputs": [
        {
          "output_type": "stream",
          "name": "stdout",
          "text": [
            "[==================================================] 100.0% 387.1/387.1MB downloaded\n",
            "[==================================================] 100.0% 758.5/758.5MB downloaded\n"
          ]
        }
      ]
    },
    {
      "cell_type": "code",
      "source": [
        "# слова из словаря\n",
        "features_names = count_vectorizer.get_feature_names_out()"
      ],
      "metadata": {
        "id": "LrJ0GBn08Gnz"
      },
      "execution_count": null,
      "outputs": []
    },
    {
      "cell_type": "code",
      "source": [
        "# считаем эмбеддинги следующим образом\n",
        "# 1. для каждого пользователя выбираем все его твиты\n",
        "# 2. выбираем все порядковые номера слов, которые использует пользователь (учитывая повторения)\n",
        "# 3. с помощью порядковых номеров из словаря выбираем слова (как строки)\n",
        "# 4. считаем эмбеддинги по модели\n",
        "for model, name in zip(model_list, ['glove_100', 'glove_200', 'w2v_300']):\n",
        "  knowledge_dct[name] = {}\n",
        "\n",
        "  for user in train['user'].unique():\n",
        "    user_tweet_idxes = train[train[\"user\"]==user].index\n",
        "    user_count_data = count_data[user_tweet_idxes].toarray()\n",
        "    user_words_idxes = np.where(user_count_data >= 1)[1]\n",
        "    user_words = features_names[user_words_idxes]\n",
        "\n",
        "    if name == 'w2v_300':\n",
        "      user_embedding = model.wv[user_words].mean(axis=0)\n",
        "\n",
        "    else:\n",
        "      user_embedding = []\n",
        "\n",
        "      # так как модель обучена не на нашем корпусе, будет включать только те слова\n",
        "      # которые там есть\n",
        "      for user_word in user_words:\n",
        "        if user_word in model:\n",
        "          user_embedding.append(model[user_word])\n",
        "\n",
        "      user_embedding = np.array(user_embedding)\n",
        "      user_embedding = user_embedding.mean(axis=0)\n",
        "\n",
        "    knowledge_dct[name][user] = user_embedding"
      ],
      "metadata": {
        "id": "QTZwp4nr7xrv"
      },
      "execution_count": null,
      "outputs": []
    },
    {
      "cell_type": "markdown",
      "source": [
        "# Создание эмбеддингов для юзеров с помощью BERT\n",
        "\n",
        "По сути расчет аналогичен Word2Vec и GloVe, только в данном случае вектор будет фиксированного размера - 768."
      ],
      "metadata": {
        "id": "ooSYMMdqDYtc"
      }
    },
    {
      "cell_type": "code",
      "source": [
        "with open('knowledge.pickle', 'rb') as f:\n",
        "  knowledge_dct = pickle.load(f)"
      ],
      "metadata": {
        "id": "C84ylmIbQccA"
      },
      "execution_count": null,
      "outputs": []
    },
    {
      "cell_type": "code",
      "source": [
        "device = torch.device(\"cuda:0\" if torch.cuda.is_available() else \"cpu\")\n",
        "device"
      ],
      "metadata": {
        "colab": {
          "base_uri": "https://localhost:8080/"
        },
        "id": "RIlCzODHRBiw",
        "outputId": "9cfa442a-b02b-42ee-d52a-1fe5ebbe2710"
      },
      "execution_count": null,
      "outputs": [
        {
          "output_type": "execute_result",
          "data": {
            "text/plain": [
              "device(type='cuda', index=0)"
            ]
          },
          "metadata": {},
          "execution_count": 14
        }
      ]
    },
    {
      "cell_type": "code",
      "source": [
        "tokenizer = BertTokenizer.from_pretrained('bert-base-uncased')\n",
        "model = BertModel.from_pretrained('bert-base-uncased')\n",
        "model.to(device);"
      ],
      "metadata": {
        "id": "z51mHl2iHe2F"
      },
      "execution_count": null,
      "outputs": []
    },
    {
      "cell_type": "code",
      "source": [
        "max_length = max(train['tweet'].apply(lambda x: len(x.split(' '))).value_counts().index)"
      ],
      "metadata": {
        "id": "XCnx3B_vOwW7"
      },
      "execution_count": null,
      "outputs": []
    },
    {
      "cell_type": "code",
      "source": [
        "knowledge_dct['bert'] = {}"
      ],
      "metadata": {
        "id": "GFl0voKJQUUI"
      },
      "execution_count": null,
      "outputs": []
    },
    {
      "cell_type": "code",
      "source": [
        "for user, group in tqdm(train.groupby(by=['user'])):\n",
        "  encoder = tokenizer.batch_encode_plus(\n",
        "      group['tweet'].values,\n",
        "      add_special_tokens = True,\n",
        "      return_attention_mask = True,\n",
        "      truncation = True,\n",
        "      padding = 'max_length',\n",
        "      max_length = max_length,\n",
        "      return_tensors = 'pt'\n",
        "      )\n",
        "\n",
        "  dataset = TensorDataset(encoder['input_ids'], encoder['attention_mask'])\n",
        "  dataloader = DataLoader(\n",
        "    dataset,\n",
        "    sampler=SequentialSampler(dataset),\n",
        "    batch_size=32\n",
        "  )\n",
        "\n",
        "  lst = []\n",
        "\n",
        "  for batch in dataloader:\n",
        "    batch = tuple(b.to(device) for b in batch)\n",
        "\n",
        "    inputs = {\n",
        "        'input_ids': batch[0],\n",
        "        'attention_mask': batch[1],\n",
        "        }\n",
        "\n",
        "    with torch.no_grad():\n",
        "      last_hidden_states = model(**inputs)[0]\n",
        "\n",
        "    lst.append(last_hidden_states)\n",
        "\n",
        "  user_embedding = torch.concat(lst).mean(axis=(0,1))\n",
        "  knowledge_dct['bert'][user[0]] = np.array(user_embedding.cpu())"
      ],
      "metadata": {
        "colab": {
          "base_uri": "https://localhost:8080/",
          "height": 49,
          "referenced_widgets": [
            "98ba2c2e6b83410facc517d72b9cf443",
            "bda3f878940a45cfaf3b68e1f4e10824",
            "3e0e73cefb4b488ea655dcf6d2d2a35f",
            "a200f580f3d74c7a996a2bc9a74d2439",
            "59f9cdbb81854dfca77fd0e801d620f6",
            "918db56417004ccb8383a59001fb341f",
            "162802fd9a504eb5ace82629d197e3e1",
            "aa5f5a2aa8c449bda3f217f553b62f02",
            "e8d4523d2d734bd3a992ed72c441e3f3",
            "b2f570f1e35b45f39c683ca2998b4669",
            "a6c658baf6c4460b84b6323afd896b05"
          ]
        },
        "id": "Fag6VSr9HhG7",
        "outputId": "c042e6a3-1cd2-4981-f923-ec5354b1037c"
      },
      "execution_count": null,
      "outputs": [
        {
          "output_type": "display_data",
          "data": {
            "text/plain": [
              "  0%|          | 0/1501 [00:00<?, ?it/s]"
            ],
            "application/vnd.jupyter.widget-view+json": {
              "version_major": 2,
              "version_minor": 0,
              "model_id": "98ba2c2e6b83410facc517d72b9cf443"
            }
          },
          "metadata": {}
        }
      ]
    },
    {
      "cell_type": "code",
      "source": [
        "# сохраним словарь\n",
        "with open('knowledge.pickle', 'wb') as f:\n",
        "  pickle.dump(knowledge_dct, f)"
      ],
      "metadata": {
        "id": "ENzI2q6lsQeu"
      },
      "execution_count": null,
      "outputs": []
    }
  ]
}